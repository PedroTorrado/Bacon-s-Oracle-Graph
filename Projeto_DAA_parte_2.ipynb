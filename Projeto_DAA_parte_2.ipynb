{
  "nbformat": 4,
  "nbformat_minor": 0,
  "metadata": {
    "colab": {
      "provenance": [],
      "mount_file_id": "1Tm715UfXkFu5tH5ozQ8GGfENNJQqmyzV",
      "authorship_tag": "ABX9TyPj6wYODJxTWL7dBulp8eyT",
      "include_colab_link": true
    },
    "kernelspec": {
      "name": "python3",
      "display_name": "Python 3"
    },
    "language_info": {
      "name": "python"
    }
  },
  "cells": [
    {
      "cell_type": "markdown",
      "metadata": {
        "id": "view-in-github",
        "colab_type": "text"
      },
      "source": [
        "<a href=\"https://colab.research.google.com/github/PedroTorrado/Bacon-s-Oracle-Graph/blob/main/Projeto_DAA_parte_2.ipynb\" target=\"_parent\"><img src=\"https://colab.research.google.com/assets/colab-badge.svg\" alt=\"Open In Colab\"/></a>"
      ]
    },
    {
      "cell_type": "markdown",
      "source": [
        "##Classe Vertice, Edge e Graph##"
      ],
      "metadata": {
        "id": "bl8bZJNhR3Yt"
      }
    },
    {
      "cell_type": "code",
      "source": [
        "# Class Vertice\n",
        "class Vertex:\n",
        "    ''' Estrutura de Vértice para um grafo: encapsula um elemento (vertex_id)\n",
        "        que é o identificador deste nó.\n",
        "\n",
        "        O elemento (vertex_id) deve ser hashable:\n",
        "        - Um objeto hashable é aquele que pode ser utilizado como uma chave num dicionário Python.\n",
        "        - Isto inclui strings, números, tuplas, etc.\n",
        "    '''\n",
        "\n",
        "    def __init__(self, vertex_id):\n",
        "        '''O vértice será inserido no Grafo usando o método insert_vertex(x) que cria um Vertex'''\n",
        "        self._vertex_id = vertex_id   # Id do vértice (elemento a inserir no grafo)\n",
        "        self.in_time = None           # Tempo de entrada no vértice (exercício TP3)\n",
        "        self.out_time = None          # Tempo de saída do vértice (exercício TP3)\n",
        "        self.status = None            # Marcação de visitado/não visitado (exercício TP3)\n",
        "\n",
        "    def __hash__(self):\n",
        "        '''O valor do elemento é usado como hash para o vértice (o elemento deve ser hashable)'''\n",
        "        return hash(self._vertex_id)  # devolve o hash do elemento\n",
        "\n",
        "    def __str__(self):\n",
        "        '''Devolve a representação do objeto vértice em string.'''\n",
        "        if self.in_time:\n",
        "            return'v{0}-in({1})-out({2})'.format(self._vertex_id, self.in_time, self.out_time)\n",
        "        else:\n",
        "            return'v{0}'.format(self._vertex_id)\n",
        "\n",
        "    def __eq__(self, vertex):\n",
        "        return self._vertex_id == vertex._vertex_id # Deve-se garantir que: se hash(vertex)==hash(self), entao vertex==self\n",
        "\n",
        "    def __lt__(self, vertex):\n",
        "        return self._vertex_id < vertex._vertex_id\n",
        "\n",
        "    def __le__(self, vertex):\n",
        "        return self._vertex_id <= vertex._vertex_id\n",
        "\n",
        "    def __gt__(self, vertex):\n",
        "        return self._vertex_id > vertex._vertex_id\n",
        "\n",
        "    def __ge__(self, vertex):\n",
        "        return self._vertex_id >= vertex._vertex_id\n",
        "\n",
        "    def vertex_id(self):\n",
        "        ''' Devolve o elemento guardado neste vértice.'''\n",
        "        return self._vertex_id\n",
        "\n",
        "\n",
        "# Class Edge\n",
        "class Edge:\n",
        "    ''' Estrutura de Aresta para um Grafo: (origem, destino) e peso '''\n",
        "\n",
        "    def __init__(self, vertex_1, vertex_2, weight):\n",
        "        self._vertex_1 = vertex_1\n",
        "        self._vertex_2 = vertex_2\n",
        "        self._weight = weight\n",
        "\n",
        "    def __hash__(self):\n",
        "        # Função que mapeia a aresta a uma posição no dicionário (hash map)\n",
        "        return hash( (self._vertex_1, self._vertex_2) )\n",
        "\n",
        "    def __str__(self):\n",
        "        ''' Devolve a representação do objeto aresta em string: (origem, destino)w=peso '''\n",
        "        return'e({0},{1})w={2}'.format(self._vertex_1, self._vertex_2, self._weight)\n",
        "\n",
        "    def __eq__(self, other):\n",
        "        # define igualdade de duas arestas (deve ser consistente com a função hash)\n",
        "        return self._vertex_1 == other._vertex_1 and self._vertex_2 == other._vertex_2\n",
        "\n",
        "    def endpoints(self):\n",
        "        ''' Devolve a tupla (vertex_1, vertex_2) os vértices adjacentes vertex_1 e vertex_2.'''\n",
        "        return (self._vertex_1, self._vertex_2)\n",
        "\n",
        "    def cost(self):\n",
        "        ''' Devolve o peso associado a este arco.'''\n",
        "        return self._weight\n",
        "\n",
        "    def opposite(self, vertex):\n",
        "        ''' Indica o vértice oposto ao vertex nesta aresta\n",
        "            (apenas se vertex fizer parte da aresta).'''\n",
        "        if vertex == self._vertex_1:\n",
        "            return self._vertex_2\n",
        "        elif vertex == self._vertex_2:\n",
        "            return self._vertex_1\n",
        "        else:\n",
        "            return None"
      ],
      "metadata": {
        "id": "o4rT1hRW6ZjO"
      },
      "execution_count": 3,
      "outputs": []
    },
    {
      "cell_type": "code",
      "source": [
        "class Graph:\n",
        "    '''\n",
        "    Representação de um grafo usando dicionários encadeados (nested dictionaries).\n",
        "\n",
        "    Atributos:\n",
        "    ----------\n",
        "    adjancencies: Dicionário externo que associa um vértice (Vertex) a um\n",
        "                  mapa de adjacências (dicionario interno)\n",
        "    vertices: Dicionário auxiliar que associa o id dos vértices do grafo\n",
        "              a um objeto Vertex (tabela de símbolos).\n",
        "    n: Número de vértices no Grafo\n",
        "    m: Número de arestas no Grafo\n",
        "\n",
        "    ----------\n",
        "'''\n",
        "    def __init__(self):\n",
        "        '''Construtor: Cria um grafo vazio (dicionário de _adjancencies).'''\n",
        "        self._adjancencies = {}  # dicionário que associa o par chave-valor: <Vertex v, Mapa de adjacências de v>\n",
        "        self._vertices = {}      # dicionário que associa o par: <id do vértice, objeto Vertex correspondente>\n",
        "        self._n = 0              # número de vértices do grafo\n",
        "        self._m = 0              # número de arestas do grafo\n",
        "\n",
        "    def __str__(self):\n",
        "        '''Devolve a representação do grafo em string (toString)'''\n",
        "        if self._n == 0:\n",
        "            ret = \"DAA-Graph: <empty>\\n\"\n",
        "        else:\n",
        "            ret = \"DAA-Graph:\\n\"\n",
        "            for vertex in self._adjancencies.keys():\n",
        "                #ret += \"vertex-\"\n",
        "                ret += str(vertex) + \": \"\n",
        "                for edge in self.incident_edges(vertex.vertex_id()):\n",
        "                    ret += str(edge) + \"; \"\n",
        "                ret += \"\\n\"\n",
        "        return ret\n",
        "\n",
        "    def order(self):\n",
        "        '''Ordem de um grafo: a quantidade de vértices no Grafo.'''\n",
        "        return self._n\n",
        "\n",
        "    def size(self):\n",
        "        '''Dimensão de um grafo: a quantidade total de arestas do Grafo.'''\n",
        "        return self._m\n",
        "\n",
        "    def has_vertex(self, vertex_id):\n",
        "        '''Verifica se o vértice de id vertex_id está no grafo.'''\n",
        "        return vertex_id in self._vertices\n",
        "\n",
        "    def has_edge(self, u_id, v_id):\n",
        "        '''Verifica se a aresta (u_id, v_id) existe no grafo.'''\n",
        "        if not self.has_vertex(u_id) or not self.has_vertex(v_id):\n",
        "            return False\n",
        "        else:\n",
        "            vertex_u = self._vertices[u_id]\n",
        "            vertex_v = self._vertices[v_id]\n",
        "            return vertex_v in self._adjancencies[vertex_u]\n",
        "\n",
        "    def insert_vertex(self, vertex_id):\n",
        "        '''Insere um novo vértice com o id vertex_id.'''\n",
        "        if not self.has_vertex(vertex_id):\n",
        "            vertex = Vertex(vertex_id)\n",
        "            self._vertices[vertex_id] = vertex  # insere o novo vértice no dicionario de vertices\n",
        "            self._adjancencies[vertex] = {}     # inicializa o mapa de adjacências deste vértice a vazio\n",
        "            self._n +=1\n",
        "\n",
        "    def insert_edge(self, u_id, v_id, weight=0):\n",
        "        ''' Cria e insere uma nova aresta entre u_id e v_id com peso weight.\n",
        "            Se a aresta já existe no grafo, atualiza-se o seu peso.\n",
        "            Também insere os vértices u_id e v_id, caso não existam.'''\n",
        "        if not self.has_vertex(u_id):\n",
        "            self.insert_vertex(u_id) # insere novo vertex e atualiza n\n",
        "        if not self.has_vertex(v_id):\n",
        "            self.insert_vertex(v_id) # insere novo vertex e atualiza n\n",
        "        if not self.has_edge(u_id, v_id):\n",
        "            self._m +=1           # atualiza m apenas se a aresta ainda não existir no grafo\n",
        "        else:\n",
        "          #print(f\"Existing edge {u_id} and {v_id}. Will only update weight\")\n",
        "          vertex_u = self._vertices[u_id]\n",
        "          vertex_v = self._vertices[v_id]\n",
        "          e = Edge(vertex_u, vertex_v, weight)\n",
        "          self._adjancencies[vertex_u][vertex_v] = e  # coloca v nas adjacências de u\n",
        "          self._adjancencies[vertex_v][vertex_u] = e  # e u nas adjacências de v (para facilitar a procura de todas as arestas incidentes num vértice)\n",
        "\n",
        "    def incident_edges(self, vertex_id):\n",
        "        '''Devolve um iterável (gerador) com todas as arestas de um vértice com id vertex_id.'''\n",
        "        vertex = self._vertices[vertex_id]\n",
        "        for edge in self._adjancencies[vertex].values(): # para todas as arestas incidentes em v:\n",
        "            yield edge\n",
        "\n",
        "    def degree(self, vertex_id):\n",
        "        '''Quantidade de arestas incidentes no vértice v.'''\n",
        "        if not self.has_vertex(vertex_id):\n",
        "            return 0\n",
        "        vertex = self._vertices[vertex_id]\n",
        "        return len(self._adjancencies[vertex])\n",
        "\n",
        "    def vertices(self):\n",
        "        '''Devolve um iterável sobre todos os vértices do Grafo (tipo Vertex)'''\n",
        "        return self._vertices.values()\n",
        "\n",
        "    def edges(self):\n",
        "        '''Devolve um iterável sobre todas as arestas do Grafo (sem arestas duplicadas).'''\n",
        "        visited_edges = set()\n",
        "        for vertex in self._adjancencies:\n",
        "            for edge in self._adjancencies[vertex].values():\n",
        "                if edge not in visited_edges:\n",
        "                    visited_edges.add(edge)\n",
        "                    yield edge\n",
        "\n",
        "    def remove_vertex(self, vertex_id):\n",
        "        '''Remove o vértice com id vertex_id. Se o vértice não existir, não faz nada.'''\n",
        "        if not self.has_vertex(vertex_id):\n",
        "            return\n",
        "\n",
        "        vertex = self._vertices[vertex_id]\n",
        "        del self._vertices[vertex_id]\n",
        "\n",
        "        for v in self._adjancencies[vertex]:\n",
        "            del self._adjancencies[v][vertex]\n",
        "\n",
        "        del self._adjancencies[vertex]\n",
        "\n",
        "        self._n -= 1\n",
        "\n",
        "    def remove_edge(self, u_id, v_id):\n",
        "        '''Remove a aresta entre u_id e v_id. Se a aresta não existir, não faz nada.'''\n",
        "        if self.has_edge(u_id, v_id):\n",
        "            vertex_u = self._vertices[u_id]\n",
        "            vertex_v = self._vertices[v_id]\n",
        "            del self._adjancencies[vertex_u][vertex_v]\n",
        "            if vertex_u != vertex_v:  # laços são removidos apenas uma vez\n",
        "                del self._adjancencies[vertex_v][vertex_u]\n",
        "            self._m -= 1\n",
        "\n",
        "    def get_edge(self, u_id, v_id):\n",
        "      ''' Devolve o objeto aresta (Edge) que liga u_id a v_id.\n",
        "      Devolve None se não forem adjacentes ou se (um d)os vértices não existirem.'''\n",
        "      #if u_id not in self._adjancencies or v_id not in self._adjancencies:\n",
        "      if not self.has_edge(u_id, v_id):\n",
        "        return None\n",
        "      else:\n",
        "        vertex_u = self._vertices[u_id]\n",
        "        vertex_v = self._vertices[v_id]\n",
        "        return self._adjancencies[vertex_u][vertex_v]\n"
      ],
      "metadata": {
        "id": "fUuVxDD3G7F3"
      },
      "execution_count": 4,
      "outputs": []
    },
    {
      "cell_type": "markdown",
      "source": [
        "##Grupo 1.a)##"
      ],
      "metadata": {
        "id": "cLiFZ7xISAUJ"
      }
    },
    {
      "cell_type": "markdown",
      "source": [
        "Resumo\n",
        "\n",
        "Para o desenvolvimento deste projeto decidimos utilizar grafos não orientados, uma vez que isso é um fator que depende dos atores que queremos alcançar, consideramos tomar em consideração o número de ligações entre dois atores (por diferentes filmes) como forma de ter pesos e utilizar uma lista de adjacência pela sua reduzida ordem de complexidade em obter arestas.\n",
        "De forma a encontrar-mos sempre o caminho mais curto possível e não apenas um caminho, temos também que nos certificar que utilizamos Breath-First Search (BFS) (aka Pesquisa em largura).\n",
        "\n",
        "• O que são os vértices e as arestas no seu modelo de grafo. Qual foi o critério para esta escolha?\n",
        "\n",
        "Por exemplo, a sua escolha facilita a implementação de alguma operação específica? Ou faz\n",
        "com que as operações fiquem mais *eficientes* (em relação ao tempo e ao espaço em memória)?\n",
        "\n",
        "\n",
        "Os vértices serão os atores e as arestas os filmes que ligam os mesmos. O critério baseia-se na lógica da informação, nós temos um conjunto de atores e como relação entre eles os filmes então achámos lógico que isso se traduza para o grafo como vértices e arestas respetivamente.\n",
        "\n",
        "Acima de tudo esta implementação vai ajudar na representação final dos dados e a responder a algumas questões mais tarde que possamos fazer como em que filme participou X ator. Isto também significa que ao procurarmos a relação entre os dois atores já temos definido os filmes que também os liga, sem ser necessário procurar essa informação postriormente.\n",
        "\n",
        "\\\n",
        "\n",
        "• A sua representação do problema resulta em que tipo de grafo (não orientado, orientado,\n",
        "pesado, com multiarestas, acíclico, cíclico, bipartido, etc)?\n",
        "\n",
        "A nossa representação resulta num grafo não orientado, com multi-arestas, conexo.\n",
        "\n",
        "\n",
        "• Que tipo de modificações teve de realizar na classe Graph fornecida (teve de inserir novos\n",
        "atributos/métodos e porquê?); ou como implementou a sua classe Graph?\n",
        "\n",
        "A classe graph em comparação à classe dada na aula da semana 7, apenas foi completo com a informação que não foi fornecida no mesmo de forma a poder ser utilizado de forma correta. Para além disso a classe is_directional() foi removida uma vez que será utilizado um grafo não orientado."
      ],
      "metadata": {
        "id": "96LW_EC3Kp-3"
      }
    },
    {
      "cell_type": "markdown",
      "source": [
        "---\n",
        "\n",
        "##Implementação dos ficheiros de dados##\n",
        "\n"
      ],
      "metadata": {
        "id": "Rtktx43EQ8-1"
      }
    },
    {
      "cell_type": "code",
      "source": [
        "from google.colab import files\n",
        "import os\n",
        "\n",
        "filename = \"small_dataset_utf8.txt\"\n",
        "\n",
        "# Check if the file exists\n",
        "if os.path.isfile(\"/content/\" + filename):\n",
        "  print(f\"File '{filename}' already exists in /content/.\")\n",
        "else:\n",
        "  print(f\"File '{filename}' not found in /content/.\")\n",
        "  # Upload a file\n",
        "  uploaded = files.upload()\n",
        "\n",
        "  # Check if a file was uploaded\n",
        "  if uploaded:\n",
        "    fileName = list(uploaded.keys())[0]  # Get the first filename\n",
        "\n",
        "    # Read the first 10 lines of the file\n",
        "    try:\n",
        "      with open(fileName, 'r') as f:\n",
        "        for i in range(10):\n",
        "          line = f.readline()\n",
        "          print(line, end='')  # Print the line without a newline\n",
        "        print()  # Add a newline after printing 10 lines\n",
        "    except FileNotFoundError:\n",
        "      print(f\"Error: File '{fileName}' not found.\")\n"
      ],
      "metadata": {
        "colab": {
          "base_uri": "https://localhost:8080/"
        },
        "id": "vFSvKc9Y14LF",
        "outputId": "96a8af00-63ca-4dda-ebe3-d2fcd670bc02"
      },
      "execution_count": 5,
      "outputs": [
        {
          "output_type": "stream",
          "name": "stdout",
          "text": [
            "File 'small_dataset_utf8.txt' already exists in /content/.\n"
          ]
        }
      ]
    },
    {
      "cell_type": "markdown",
      "source": [
        "Tivemos alguma dificuldade em ter a certeza que tinhamos sempre acesso aos ficheiros necessários quando executávamos o processo e por isso decidimos verificar diretamente na diretoria se esta se encontrava com o ficheiro necessário e se não, pedir ao utilizador para importar o mesmo.\n",
        "\n",
        "Para isso utilizamos os recursos encontrádos em:\n",
        "\n",
        "https://www.geeksforgeeks.org/how-to-print-all-files-within-a-directory-using-python/\n",
        "https://colab.research.google.com/notebooks/io.ipynb#scrollTo=hauvGV4hV-Mh"
      ],
      "metadata": {
        "id": "1SUzb6iD2bXf"
      }
    },
    {
      "cell_type": "code",
      "source": [
        "def create_movie_graph(file_name):\n",
        "  \"\"\"\n",
        "  Creates a movie graph from a file with the following format:\n",
        "\n",
        "  Movie Title (Year) / Actor 1 / Actor 2 / ...\n",
        "\n",
        "  Args:\n",
        "      file_name: The name of the file to read.\n",
        "\n",
        "  Returns:\n",
        "      A Graph object representing the movie relationships between actors.\n",
        "  \"\"\"\n",
        "  movie_graph = Graph()\n",
        "\n",
        "  try:\n",
        "    with open(file_name, 'r') as f:\n",
        "      for line in f:\n",
        "        try:\n",
        "          # Remove leading/trailing spaces and split using '/'\n",
        "          split_data = line.strip().split('/')\n",
        "\n",
        "          if len(split_data) < 2:\n",
        "            raise ValueError(\"Unexpected line format\")\n",
        "\n",
        "          movie_title = split_data[0]\n",
        "          year = split_data[1]\n",
        "          actors = split_data[2:]  # All remaining elements are actors\n",
        "\n",
        "          # Add movie as vertex\n",
        "          movie_graph.insert_vertex(movie_title)\n",
        "\n",
        "          # Add edges between actors for the same movie\n",
        "          for actor in actors:\n",
        "            for other_actor in actors:\n",
        "              if actor != other_actor:  # Avoid self-loops\n",
        "                movie_graph.insert_edge(movie_title, other_actor)\n",
        "\n",
        "        except ValueError as e:\n",
        "          print(f\"Error: Encountered unexpected format in line: {line}\")\n",
        "          print(e)\n",
        "\n",
        "  except FileNotFoundError:\n",
        "    print(f\"Error: File '{file_name}' not found.\")\n",
        "\n",
        "  return movie_graph\n",
        "\n",
        "# Example usage\n",
        "movie_graph = create_movie_graph(filename)  # Replace with your file name\n"
      ],
      "metadata": {
        "id": "Ek3gQ_j32AFr"
      },
      "execution_count": 10,
      "outputs": []
    },
    {
      "cell_type": "code",
      "source": [
        "print('Ordem:', movie_graph.order(),'Tamanho:', movie_graph.size())\n",
        "#print(movie_graph)\n"
      ],
      "metadata": {
        "colab": {
          "base_uri": "https://localhost:8080/"
        },
        "id": "Z2LSbz9h70Ul",
        "outputId": "e6304b46-3609-4ca6-d8ce-ed9387f4a7d1"
      },
      "execution_count": 11,
      "outputs": [
        {
          "output_type": "stream",
          "name": "stdout",
          "text": [
            "Ordem: 125249 Tamanho: 15134184\n"
          ]
        }
      ]
    },
    {
      "cell_type": "code",
      "source": [],
      "metadata": {
        "id": "Bg8kKVBP7UZz"
      },
      "execution_count": 7,
      "outputs": []
    }
  ]
}